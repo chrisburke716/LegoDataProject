{
 "cells": [
  {
   "cell_type": "code",
   "execution_count": 1,
   "metadata": {},
   "outputs": [
    {
     "name": "stdout",
     "output_type": "stream",
     "text": [
      "Intel MKL WARNING: Support of Intel(R) Streaming SIMD Extensions 4.2 (Intel(R) SSE4.2) enabled only processors has been deprecated. Intel oneAPI Math Kernel Library 2025.0 will require Intel(R) Advanced Vector Extensions (Intel(R) AVX) instructions.\n",
      "Intel MKL WARNING: Support of Intel(R) Streaming SIMD Extensions 4.2 (Intel(R) SSE4.2) enabled only processors has been deprecated. Intel oneAPI Math Kernel Library 2025.0 will require Intel(R) Advanced Vector Extensions (Intel(R) AVX) instructions.\n"
     ]
    }
   ],
   "source": [
    "import sqlite3\n",
    "import pandas as pd\n",
    "import numpy as np"
   ]
  },
  {
   "cell_type": "code",
   "execution_count": 2,
   "metadata": {},
   "outputs": [
    {
     "name": "stdout",
     "output_type": "stream",
     "text": [
      "/Users/chris/Desktop/MachineLearning2023/Lego\n"
     ]
    }
   ],
   "source": [
    "import os\n",
    "print(os.getcwd())"
   ]
  },
  {
   "cell_type": "code",
   "execution_count": 3,
   "metadata": {},
   "outputs": [],
   "source": [
    "conn = sqlite3.connect('sql/lego.db')"
   ]
  },
  {
   "cell_type": "code",
   "execution_count": 4,
   "metadata": {},
   "outputs": [],
   "source": [
    "cursor = conn.cursor()"
   ]
  },
  {
   "cell_type": "markdown",
   "metadata": {},
   "source": [
    "## colors"
   ]
  },
  {
   "cell_type": "code",
   "execution_count": 58,
   "metadata": {},
   "outputs": [],
   "source": [
    "dfColors = pd.read_csv('RebrickableData/colors.csv')"
   ]
  },
  {
   "cell_type": "code",
   "execution_count": 59,
   "metadata": {},
   "outputs": [
    {
     "data": {
      "text/html": [
       "<div>\n",
       "<style scoped>\n",
       "    .dataframe tbody tr th:only-of-type {\n",
       "        vertical-align: middle;\n",
       "    }\n",
       "\n",
       "    .dataframe tbody tr th {\n",
       "        vertical-align: top;\n",
       "    }\n",
       "\n",
       "    .dataframe thead th {\n",
       "        text-align: right;\n",
       "    }\n",
       "</style>\n",
       "<table border=\"1\" class=\"dataframe\">\n",
       "  <thead>\n",
       "    <tr style=\"text-align: right;\">\n",
       "      <th></th>\n",
       "      <th>id</th>\n",
       "      <th>name</th>\n",
       "      <th>rgb</th>\n",
       "      <th>is_trans</th>\n",
       "    </tr>\n",
       "  </thead>\n",
       "  <tbody>\n",
       "    <tr>\n",
       "      <th>0</th>\n",
       "      <td>-1</td>\n",
       "      <td>[Unknown]</td>\n",
       "      <td>0033B2</td>\n",
       "      <td>f</td>\n",
       "    </tr>\n",
       "    <tr>\n",
       "      <th>1</th>\n",
       "      <td>0</td>\n",
       "      <td>Black</td>\n",
       "      <td>05131D</td>\n",
       "      <td>f</td>\n",
       "    </tr>\n",
       "    <tr>\n",
       "      <th>2</th>\n",
       "      <td>1</td>\n",
       "      <td>Blue</td>\n",
       "      <td>0055BF</td>\n",
       "      <td>f</td>\n",
       "    </tr>\n",
       "    <tr>\n",
       "      <th>3</th>\n",
       "      <td>2</td>\n",
       "      <td>Green</td>\n",
       "      <td>237841</td>\n",
       "      <td>f</td>\n",
       "    </tr>\n",
       "    <tr>\n",
       "      <th>4</th>\n",
       "      <td>3</td>\n",
       "      <td>Dark Turquoise</td>\n",
       "      <td>008F9B</td>\n",
       "      <td>f</td>\n",
       "    </tr>\n",
       "    <tr>\n",
       "      <th>...</th>\n",
       "      <td>...</td>\n",
       "      <td>...</td>\n",
       "      <td>...</td>\n",
       "      <td>...</td>\n",
       "    </tr>\n",
       "    <tr>\n",
       "      <th>258</th>\n",
       "      <td>1132</td>\n",
       "      <td>HO Sand Green</td>\n",
       "      <td>A0BCAC</td>\n",
       "      <td>f</td>\n",
       "    </tr>\n",
       "    <tr>\n",
       "      <th>259</th>\n",
       "      <td>1133</td>\n",
       "      <td>HO Tan</td>\n",
       "      <td>E4CD9E</td>\n",
       "      <td>f</td>\n",
       "    </tr>\n",
       "    <tr>\n",
       "      <th>260</th>\n",
       "      <td>1134</td>\n",
       "      <td>HO Titanium</td>\n",
       "      <td>616161</td>\n",
       "      <td>f</td>\n",
       "    </tr>\n",
       "    <tr>\n",
       "      <th>261</th>\n",
       "      <td>1135</td>\n",
       "      <td>Metal</td>\n",
       "      <td>A5ADB4</td>\n",
       "      <td>f</td>\n",
       "    </tr>\n",
       "    <tr>\n",
       "      <th>262</th>\n",
       "      <td>9999</td>\n",
       "      <td>[No Color/Any Color]</td>\n",
       "      <td>05131D</td>\n",
       "      <td>f</td>\n",
       "    </tr>\n",
       "  </tbody>\n",
       "</table>\n",
       "<p>263 rows × 4 columns</p>\n",
       "</div>"
      ],
      "text/plain": [
       "       id                  name     rgb is_trans\n",
       "0      -1             [Unknown]  0033B2        f\n",
       "1       0                 Black  05131D        f\n",
       "2       1                  Blue  0055BF        f\n",
       "3       2                 Green  237841        f\n",
       "4       3        Dark Turquoise  008F9B        f\n",
       "..    ...                   ...     ...      ...\n",
       "258  1132         HO Sand Green  A0BCAC        f\n",
       "259  1133                HO Tan  E4CD9E        f\n",
       "260  1134           HO Titanium  616161        f\n",
       "261  1135                 Metal  A5ADB4        f\n",
       "262  9999  [No Color/Any Color]  05131D        f\n",
       "\n",
       "[263 rows x 4 columns]"
      ]
     },
     "execution_count": 59,
     "metadata": {},
     "output_type": "execute_result"
    }
   ],
   "source": [
    "dfColors"
   ]
  },
  {
   "cell_type": "code",
   "execution_count": 60,
   "metadata": {},
   "outputs": [
    {
     "data": {
      "text/plain": [
       "id           int64\n",
       "name        object\n",
       "rgb         object\n",
       "is_trans    object\n",
       "dtype: object"
      ]
     },
     "execution_count": 60,
     "metadata": {},
     "output_type": "execute_result"
    }
   ],
   "source": [
    "dfColors.dtypes"
   ]
  },
  {
   "cell_type": "code",
   "execution_count": 61,
   "metadata": {},
   "outputs": [
    {
     "data": {
      "text/plain": [
       "id          0\n",
       "name        0\n",
       "rgb         0\n",
       "is_trans    0\n",
       "dtype: int64"
      ]
     },
     "execution_count": 61,
     "metadata": {},
     "output_type": "execute_result"
    }
   ],
   "source": [
    "dfColors.isna().sum()"
   ]
  },
  {
   "cell_type": "code",
   "execution_count": 62,
   "metadata": {},
   "outputs": [],
   "source": [
    "boolMap = {'f':0, 't':1}"
   ]
  },
  {
   "cell_type": "code",
   "execution_count": 68,
   "metadata": {},
   "outputs": [
    {
     "data": {
      "text/plain": [
       "True"
      ]
     },
     "execution_count": 68,
     "metadata": {},
     "output_type": "execute_result"
    }
   ],
   "source": [
    "list(dfColors['is_trans'].unique()) ==['f','t']"
   ]
  },
  {
   "cell_type": "code",
   "execution_count": 70,
   "metadata": {},
   "outputs": [],
   "source": [
    "for col in dfColors.columns:\n",
    "    if list(dfColors[col].unique()) == ['f','t']:\n",
    "        dfColors[col] = dfColors[col].map(boolMap)"
   ]
  },
  {
   "cell_type": "code",
   "execution_count": 71,
   "metadata": {},
   "outputs": [
    {
     "data": {
      "text/html": [
       "<div>\n",
       "<style scoped>\n",
       "    .dataframe tbody tr th:only-of-type {\n",
       "        vertical-align: middle;\n",
       "    }\n",
       "\n",
       "    .dataframe tbody tr th {\n",
       "        vertical-align: top;\n",
       "    }\n",
       "\n",
       "    .dataframe thead th {\n",
       "        text-align: right;\n",
       "    }\n",
       "</style>\n",
       "<table border=\"1\" class=\"dataframe\">\n",
       "  <thead>\n",
       "    <tr style=\"text-align: right;\">\n",
       "      <th></th>\n",
       "      <th>id</th>\n",
       "      <th>name</th>\n",
       "      <th>rgb</th>\n",
       "      <th>is_trans</th>\n",
       "    </tr>\n",
       "  </thead>\n",
       "  <tbody>\n",
       "    <tr>\n",
       "      <th>0</th>\n",
       "      <td>-1</td>\n",
       "      <td>[Unknown]</td>\n",
       "      <td>0033B2</td>\n",
       "      <td>0</td>\n",
       "    </tr>\n",
       "    <tr>\n",
       "      <th>1</th>\n",
       "      <td>0</td>\n",
       "      <td>Black</td>\n",
       "      <td>05131D</td>\n",
       "      <td>0</td>\n",
       "    </tr>\n",
       "    <tr>\n",
       "      <th>2</th>\n",
       "      <td>1</td>\n",
       "      <td>Blue</td>\n",
       "      <td>0055BF</td>\n",
       "      <td>0</td>\n",
       "    </tr>\n",
       "    <tr>\n",
       "      <th>3</th>\n",
       "      <td>2</td>\n",
       "      <td>Green</td>\n",
       "      <td>237841</td>\n",
       "      <td>0</td>\n",
       "    </tr>\n",
       "    <tr>\n",
       "      <th>4</th>\n",
       "      <td>3</td>\n",
       "      <td>Dark Turquoise</td>\n",
       "      <td>008F9B</td>\n",
       "      <td>0</td>\n",
       "    </tr>\n",
       "    <tr>\n",
       "      <th>...</th>\n",
       "      <td>...</td>\n",
       "      <td>...</td>\n",
       "      <td>...</td>\n",
       "      <td>...</td>\n",
       "    </tr>\n",
       "    <tr>\n",
       "      <th>258</th>\n",
       "      <td>1132</td>\n",
       "      <td>HO Sand Green</td>\n",
       "      <td>A0BCAC</td>\n",
       "      <td>0</td>\n",
       "    </tr>\n",
       "    <tr>\n",
       "      <th>259</th>\n",
       "      <td>1133</td>\n",
       "      <td>HO Tan</td>\n",
       "      <td>E4CD9E</td>\n",
       "      <td>0</td>\n",
       "    </tr>\n",
       "    <tr>\n",
       "      <th>260</th>\n",
       "      <td>1134</td>\n",
       "      <td>HO Titanium</td>\n",
       "      <td>616161</td>\n",
       "      <td>0</td>\n",
       "    </tr>\n",
       "    <tr>\n",
       "      <th>261</th>\n",
       "      <td>1135</td>\n",
       "      <td>Metal</td>\n",
       "      <td>A5ADB4</td>\n",
       "      <td>0</td>\n",
       "    </tr>\n",
       "    <tr>\n",
       "      <th>262</th>\n",
       "      <td>9999</td>\n",
       "      <td>[No Color/Any Color]</td>\n",
       "      <td>05131D</td>\n",
       "      <td>0</td>\n",
       "    </tr>\n",
       "  </tbody>\n",
       "</table>\n",
       "<p>263 rows × 4 columns</p>\n",
       "</div>"
      ],
      "text/plain": [
       "       id                  name     rgb  is_trans\n",
       "0      -1             [Unknown]  0033B2         0\n",
       "1       0                 Black  05131D         0\n",
       "2       1                  Blue  0055BF         0\n",
       "3       2                 Green  237841         0\n",
       "4       3        Dark Turquoise  008F9B         0\n",
       "..    ...                   ...     ...       ...\n",
       "258  1132         HO Sand Green  A0BCAC         0\n",
       "259  1133                HO Tan  E4CD9E         0\n",
       "260  1134           HO Titanium  616161         0\n",
       "261  1135                 Metal  A5ADB4         0\n",
       "262  9999  [No Color/Any Color]  05131D         0\n",
       "\n",
       "[263 rows x 4 columns]"
      ]
     },
     "execution_count": 71,
     "metadata": {},
     "output_type": "execute_result"
    }
   ],
   "source": [
    "dfColors"
   ]
  },
  {
   "cell_type": "code",
   "execution_count": 32,
   "metadata": {},
   "outputs": [
    {
     "data": {
      "text/plain": [
       "id           int64\n",
       "name        object\n",
       "rgb         object\n",
       "is_trans     int64\n",
       "dtype: object"
      ]
     },
     "execution_count": 32,
     "metadata": {},
     "output_type": "execute_result"
    }
   ],
   "source": [
    "dfColors.dtypes"
   ]
  },
  {
   "cell_type": "code",
   "execution_count": 24,
   "metadata": {},
   "outputs": [
    {
     "data": {
      "text/plain": [
       "<sqlite3.Cursor at 0x7fa679f4eb90>"
      ]
     },
     "execution_count": 24,
     "metadata": {},
     "output_type": "execute_result"
    }
   ],
   "source": [
    "createColorTableQuery = '''\n",
    "    CREATE TABLE IF NOT EXISTS colors (\n",
    "      id INTEGER PRIMARY KEY,\n",
    "      name TEXT,\n",
    "      rgb TEXT,\n",
    "      is_trans INTEGER\n",
    "    )\n",
    "'''\n",
    "cursor.execute(createColorTableQuery)"
   ]
  },
  {
   "cell_type": "code",
   "execution_count": 33,
   "metadata": {},
   "outputs": [
    {
     "data": {
      "text/plain": [
       "263"
      ]
     },
     "execution_count": 33,
     "metadata": {},
     "output_type": "execute_result"
    }
   ],
   "source": [
    "dfColors.to_sql('colors', conn, if_exists='append', index=False)"
   ]
  },
  {
   "cell_type": "markdown",
   "metadata": {},
   "source": [
    "## elements"
   ]
  },
  {
   "cell_type": "code",
   "execution_count": 34,
   "metadata": {},
   "outputs": [],
   "source": [
    "dfElements = pd.read_csv('RebrickableData/elements.csv')"
   ]
  },
  {
   "cell_type": "code",
   "execution_count": 35,
   "metadata": {},
   "outputs": [
    {
     "data": {
      "text/html": [
       "<div>\n",
       "<style scoped>\n",
       "    .dataframe tbody tr th:only-of-type {\n",
       "        vertical-align: middle;\n",
       "    }\n",
       "\n",
       "    .dataframe tbody tr th {\n",
       "        vertical-align: top;\n",
       "    }\n",
       "\n",
       "    .dataframe thead th {\n",
       "        text-align: right;\n",
       "    }\n",
       "</style>\n",
       "<table border=\"1\" class=\"dataframe\">\n",
       "  <thead>\n",
       "    <tr style=\"text-align: right;\">\n",
       "      <th></th>\n",
       "      <th>element_id</th>\n",
       "      <th>part_num</th>\n",
       "      <th>color_id</th>\n",
       "      <th>design_id</th>\n",
       "    </tr>\n",
       "  </thead>\n",
       "  <tbody>\n",
       "    <tr>\n",
       "      <th>0</th>\n",
       "      <td>6443403</td>\n",
       "      <td>2277c01pr0009</td>\n",
       "      <td>1</td>\n",
       "      <td>2277.0</td>\n",
       "    </tr>\n",
       "    <tr>\n",
       "      <th>1</th>\n",
       "      <td>6300211</td>\n",
       "      <td>67906c01</td>\n",
       "      <td>14</td>\n",
       "      <td>67908.0</td>\n",
       "    </tr>\n",
       "    <tr>\n",
       "      <th>2</th>\n",
       "      <td>4566309</td>\n",
       "      <td>2564</td>\n",
       "      <td>0</td>\n",
       "      <td>2564.0</td>\n",
       "    </tr>\n",
       "    <tr>\n",
       "      <th>3</th>\n",
       "      <td>4275423</td>\n",
       "      <td>53657</td>\n",
       "      <td>1004</td>\n",
       "      <td>53657.0</td>\n",
       "    </tr>\n",
       "    <tr>\n",
       "      <th>4</th>\n",
       "      <td>6194308</td>\n",
       "      <td>92926</td>\n",
       "      <td>71</td>\n",
       "      <td>28967.0</td>\n",
       "    </tr>\n",
       "    <tr>\n",
       "      <th>...</th>\n",
       "      <td>...</td>\n",
       "      <td>...</td>\n",
       "      <td>...</td>\n",
       "      <td>...</td>\n",
       "    </tr>\n",
       "    <tr>\n",
       "      <th>84754</th>\n",
       "      <td>6462830</td>\n",
       "      <td>973c28h11pr0001</td>\n",
       "      <td>15</td>\n",
       "      <td>76382.0</td>\n",
       "    </tr>\n",
       "    <tr>\n",
       "      <th>84755</th>\n",
       "      <td>6461994</td>\n",
       "      <td>51066</td>\n",
       "      <td>71</td>\n",
       "      <td>51066.0</td>\n",
       "    </tr>\n",
       "    <tr>\n",
       "      <th>84756</th>\n",
       "      <td>6462014</td>\n",
       "      <td>21849pr0007</td>\n",
       "      <td>47</td>\n",
       "      <td>105302.0</td>\n",
       "    </tr>\n",
       "    <tr>\n",
       "      <th>84757</th>\n",
       "      <td>6450670</td>\n",
       "      <td>98100pr0013</td>\n",
       "      <td>25</td>\n",
       "      <td>104763.0</td>\n",
       "    </tr>\n",
       "    <tr>\n",
       "      <th>84758</th>\n",
       "      <td>6450677</td>\n",
       "      <td>64808pr0119</td>\n",
       "      <td>484</td>\n",
       "      <td>104770.0</td>\n",
       "    </tr>\n",
       "  </tbody>\n",
       "</table>\n",
       "<p>84759 rows × 4 columns</p>\n",
       "</div>"
      ],
      "text/plain": [
       "       element_id         part_num  color_id  design_id\n",
       "0         6443403    2277c01pr0009         1     2277.0\n",
       "1         6300211         67906c01        14    67908.0\n",
       "2         4566309             2564         0     2564.0\n",
       "3         4275423            53657      1004    53657.0\n",
       "4         6194308            92926        71    28967.0\n",
       "...           ...              ...       ...        ...\n",
       "84754     6462830  973c28h11pr0001        15    76382.0\n",
       "84755     6461994            51066        71    51066.0\n",
       "84756     6462014      21849pr0007        47   105302.0\n",
       "84757     6450670      98100pr0013        25   104763.0\n",
       "84758     6450677      64808pr0119       484   104770.0\n",
       "\n",
       "[84759 rows x 4 columns]"
      ]
     },
     "execution_count": 35,
     "metadata": {},
     "output_type": "execute_result"
    }
   ],
   "source": [
    "dfElements"
   ]
  },
  {
   "cell_type": "code",
   "execution_count": 36,
   "metadata": {},
   "outputs": [
    {
     "data": {
      "text/plain": [
       "<sqlite3.Cursor at 0x7fa679f4eb90>"
      ]
     },
     "execution_count": 36,
     "metadata": {},
     "output_type": "execute_result"
    }
   ],
   "source": [
    "createElementTableQuery = '''\n",
    "    CREATE TABLE IF NOT EXISTS elements (\n",
    "      element_id INTEGER PRIMARY KEY,\n",
    "      part_num TEXT,\n",
    "      color_id INTEGER,\n",
    "      design_id INTEGER\n",
    "    )\n",
    "'''\n",
    "cursor.execute(createElementTableQuery)"
   ]
  },
  {
   "cell_type": "code",
   "execution_count": 37,
   "metadata": {},
   "outputs": [
    {
     "data": {
      "text/plain": [
       "84759"
      ]
     },
     "execution_count": 37,
     "metadata": {},
     "output_type": "execute_result"
    }
   ],
   "source": [
    "dfElements.to_sql('elements', conn, if_exists='append', index=False)"
   ]
  },
  {
   "cell_type": "code",
   "execution_count": null,
   "metadata": {},
   "outputs": [],
   "source": []
  },
  {
   "cell_type": "markdown",
   "metadata": {},
   "source": [
    "## inventories"
   ]
  },
  {
   "cell_type": "code",
   "execution_count": 50,
   "metadata": {},
   "outputs": [],
   "source": [
    "tableName = 'inventories'"
   ]
  },
  {
   "cell_type": "code",
   "execution_count": 51,
   "metadata": {},
   "outputs": [],
   "source": [
    "dfInventories = pd.read_csv(f'RebrickableData/{tableName}.csv')"
   ]
  },
  {
   "cell_type": "code",
   "execution_count": 52,
   "metadata": {},
   "outputs": [
    {
     "data": {
      "text/html": [
       "<div>\n",
       "<style scoped>\n",
       "    .dataframe tbody tr th:only-of-type {\n",
       "        vertical-align: middle;\n",
       "    }\n",
       "\n",
       "    .dataframe tbody tr th {\n",
       "        vertical-align: top;\n",
       "    }\n",
       "\n",
       "    .dataframe thead th {\n",
       "        text-align: right;\n",
       "    }\n",
       "</style>\n",
       "<table border=\"1\" class=\"dataframe\">\n",
       "  <thead>\n",
       "    <tr style=\"text-align: right;\">\n",
       "      <th></th>\n",
       "      <th>id</th>\n",
       "      <th>version</th>\n",
       "      <th>set_num</th>\n",
       "    </tr>\n",
       "  </thead>\n",
       "  <tbody>\n",
       "    <tr>\n",
       "      <th>0</th>\n",
       "      <td>1</td>\n",
       "      <td>1</td>\n",
       "      <td>7922-1</td>\n",
       "    </tr>\n",
       "    <tr>\n",
       "      <th>1</th>\n",
       "      <td>3</td>\n",
       "      <td>1</td>\n",
       "      <td>3931-1</td>\n",
       "    </tr>\n",
       "    <tr>\n",
       "      <th>2</th>\n",
       "      <td>4</td>\n",
       "      <td>1</td>\n",
       "      <td>6942-1</td>\n",
       "    </tr>\n",
       "    <tr>\n",
       "      <th>3</th>\n",
       "      <td>15</td>\n",
       "      <td>1</td>\n",
       "      <td>5158-1</td>\n",
       "    </tr>\n",
       "    <tr>\n",
       "      <th>4</th>\n",
       "      <td>16</td>\n",
       "      <td>1</td>\n",
       "      <td>903-1</td>\n",
       "    </tr>\n",
       "    <tr>\n",
       "      <th>...</th>\n",
       "      <td>...</td>\n",
       "      <td>...</td>\n",
       "      <td>...</td>\n",
       "    </tr>\n",
       "    <tr>\n",
       "      <th>37596</th>\n",
       "      <td>200328</td>\n",
       "      <td>1</td>\n",
       "      <td>854291-1</td>\n",
       "    </tr>\n",
       "    <tr>\n",
       "      <th>37597</th>\n",
       "      <td>200329</td>\n",
       "      <td>1</td>\n",
       "      <td>854292-1</td>\n",
       "    </tr>\n",
       "    <tr>\n",
       "      <th>37598</th>\n",
       "      <td>200330</td>\n",
       "      <td>1</td>\n",
       "      <td>854290-1</td>\n",
       "    </tr>\n",
       "    <tr>\n",
       "      <th>37599</th>\n",
       "      <td>200331</td>\n",
       "      <td>1</td>\n",
       "      <td>854294-1</td>\n",
       "    </tr>\n",
       "    <tr>\n",
       "      <th>37600</th>\n",
       "      <td>200534</td>\n",
       "      <td>1</td>\n",
       "      <td>10438-1</td>\n",
       "    </tr>\n",
       "  </tbody>\n",
       "</table>\n",
       "<p>37601 rows × 3 columns</p>\n",
       "</div>"
      ],
      "text/plain": [
       "           id  version   set_num\n",
       "0           1        1    7922-1\n",
       "1           3        1    3931-1\n",
       "2           4        1    6942-1\n",
       "3          15        1    5158-1\n",
       "4          16        1     903-1\n",
       "...       ...      ...       ...\n",
       "37596  200328        1  854291-1\n",
       "37597  200329        1  854292-1\n",
       "37598  200330        1  854290-1\n",
       "37599  200331        1  854294-1\n",
       "37600  200534        1   10438-1\n",
       "\n",
       "[37601 rows x 3 columns]"
      ]
     },
     "execution_count": 52,
     "metadata": {},
     "output_type": "execute_result"
    }
   ],
   "source": [
    "dfInventories"
   ]
  },
  {
   "cell_type": "code",
   "execution_count": 53,
   "metadata": {},
   "outputs": [
    {
     "data": {
      "text/plain": [
       "id          int64\n",
       "version     int64\n",
       "set_num    object\n",
       "dtype: object"
      ]
     },
     "execution_count": 53,
     "metadata": {},
     "output_type": "execute_result"
    }
   ],
   "source": [
    "dfInventories.dtypes"
   ]
  },
  {
   "cell_type": "code",
   "execution_count": 54,
   "metadata": {},
   "outputs": [
    {
     "data": {
      "text/plain": [
       "version\n",
       "1     35964\n",
       "2      1011\n",
       "3       199\n",
       "4       150\n",
       "5       110\n",
       "6        58\n",
       "7        37\n",
       "8        27\n",
       "9        20\n",
       "10       16\n",
       "11        3\n",
       "12        2\n",
       "13        1\n",
       "14        1\n",
       "15        1\n",
       "16        1\n",
       "Name: count, dtype: int64"
      ]
     },
     "execution_count": 54,
     "metadata": {},
     "output_type": "execute_result"
    }
   ],
   "source": [
    "dfInventories['version'].value_counts()"
   ]
  },
  {
   "cell_type": "code",
   "execution_count": 55,
   "metadata": {},
   "outputs": [
    {
     "data": {
      "text/plain": [
       "<sqlite3.Cursor at 0x7fa679f4eb90>"
      ]
     },
     "execution_count": 55,
     "metadata": {},
     "output_type": "execute_result"
    }
   ],
   "source": [
    "qry = f'''\n",
    "    CREATE TABLE IF NOT EXISTS {tableName} (\n",
    "      id INTEGER PRIMARY KEY,\n",
    "      version INTEGER,\n",
    "      set_num TEXT\n",
    "    )\n",
    "'''\n",
    "cursor.execute(qry)"
   ]
  },
  {
   "cell_type": "code",
   "execution_count": 56,
   "metadata": {},
   "outputs": [
    {
     "data": {
      "text/plain": [
       "37601"
      ]
     },
     "execution_count": 56,
     "metadata": {},
     "output_type": "execute_result"
    }
   ],
   "source": [
    "dfInventories.to_sql(tableName, conn, if_exists='append', index=False)"
   ]
  },
  {
   "cell_type": "markdown",
   "metadata": {},
   "source": [
    "## generalize"
   ]
  },
  {
   "cell_type": "code",
   "execution_count": 12,
   "metadata": {},
   "outputs": [],
   "source": [
    "import glob\n",
    "from pathlib import Path"
   ]
  },
  {
   "cell_type": "code",
   "execution_count": 13,
   "metadata": {},
   "outputs": [],
   "source": [
    "dataFiles = glob.glob('RebrickableData/*.csv')"
   ]
  },
  {
   "cell_type": "code",
   "execution_count": 14,
   "metadata": {},
   "outputs": [
    {
     "data": {
      "text/plain": [
       "'RebrickableData/elements.csv'"
      ]
     },
     "execution_count": 14,
     "metadata": {},
     "output_type": "execute_result"
    }
   ],
   "source": [
    "dataFiles[0]"
   ]
  },
  {
   "cell_type": "code",
   "execution_count": 15,
   "metadata": {},
   "outputs": [
    {
     "data": {
      "text/plain": [
       "['elements',\n",
       " 'part_categories',\n",
       " 'inventories',\n",
       " 'parts',\n",
       " 'part_relationships',\n",
       " 'inventory_sets',\n",
       " 'minifigs',\n",
       " 'inventory_parts',\n",
       " 'colors',\n",
       " 'inventory_minifigs',\n",
       " 'sets',\n",
       " 'themes']"
      ]
     },
     "execution_count": 15,
     "metadata": {},
     "output_type": "execute_result"
    }
   ],
   "source": [
    "tableNames = [Path(filename).stem for filename in dataFiles]\n",
    "tableNames"
   ]
  },
  {
   "cell_type": "code",
   "execution_count": 33,
   "metadata": {},
   "outputs": [
    {
     "data": {
      "text/plain": [
       "'inventory_parts'"
      ]
     },
     "execution_count": 33,
     "metadata": {},
     "output_type": "execute_result"
    }
   ],
   "source": [
    "tableName = tableNames[7]\n",
    "tableName"
   ]
  },
  {
   "cell_type": "code",
   "execution_count": 34,
   "metadata": {},
   "outputs": [],
   "source": [
    "df = pd.read_csv(f'RebrickableData/{tableName}.csv')"
   ]
  },
  {
   "cell_type": "code",
   "execution_count": 35,
   "metadata": {},
   "outputs": [
    {
     "data": {
      "text/html": [
       "<div>\n",
       "<style scoped>\n",
       "    .dataframe tbody tr th:only-of-type {\n",
       "        vertical-align: middle;\n",
       "    }\n",
       "\n",
       "    .dataframe tbody tr th {\n",
       "        vertical-align: top;\n",
       "    }\n",
       "\n",
       "    .dataframe thead th {\n",
       "        text-align: right;\n",
       "    }\n",
       "</style>\n",
       "<table border=\"1\" class=\"dataframe\">\n",
       "  <thead>\n",
       "    <tr style=\"text-align: right;\">\n",
       "      <th></th>\n",
       "      <th>inventory_id</th>\n",
       "      <th>part_num</th>\n",
       "      <th>color_id</th>\n",
       "      <th>quantity</th>\n",
       "      <th>is_spare</th>\n",
       "      <th>img_url</th>\n",
       "    </tr>\n",
       "  </thead>\n",
       "  <tbody>\n",
       "    <tr>\n",
       "      <th>0</th>\n",
       "      <td>1</td>\n",
       "      <td>48379c04</td>\n",
       "      <td>72</td>\n",
       "      <td>1</td>\n",
       "      <td>f</td>\n",
       "      <td>https://cdn.rebrickable.com/media/parts/photos...</td>\n",
       "    </tr>\n",
       "    <tr>\n",
       "      <th>1</th>\n",
       "      <td>1</td>\n",
       "      <td>48395</td>\n",
       "      <td>7</td>\n",
       "      <td>1</td>\n",
       "      <td>f</td>\n",
       "      <td>https://cdn.rebrickable.com/media/parts/photos...</td>\n",
       "    </tr>\n",
       "    <tr>\n",
       "      <th>2</th>\n",
       "      <td>1</td>\n",
       "      <td>stickerupn0077</td>\n",
       "      <td>9999</td>\n",
       "      <td>1</td>\n",
       "      <td>f</td>\n",
       "      <td>NaN</td>\n",
       "    </tr>\n",
       "    <tr>\n",
       "      <th>3</th>\n",
       "      <td>1</td>\n",
       "      <td>upn0342</td>\n",
       "      <td>0</td>\n",
       "      <td>1</td>\n",
       "      <td>f</td>\n",
       "      <td>https://cdn.rebrickable.com/media/parts/photos...</td>\n",
       "    </tr>\n",
       "    <tr>\n",
       "      <th>4</th>\n",
       "      <td>1</td>\n",
       "      <td>upn0350</td>\n",
       "      <td>25</td>\n",
       "      <td>1</td>\n",
       "      <td>f</td>\n",
       "      <td>NaN</td>\n",
       "    </tr>\n",
       "    <tr>\n",
       "      <th>...</th>\n",
       "      <td>...</td>\n",
       "      <td>...</td>\n",
       "      <td>...</td>\n",
       "      <td>...</td>\n",
       "      <td>...</td>\n",
       "      <td>...</td>\n",
       "    </tr>\n",
       "    <tr>\n",
       "      <th>1187301</th>\n",
       "      <td>200014</td>\n",
       "      <td>25376</td>\n",
       "      <td>4</td>\n",
       "      <td>1</td>\n",
       "      <td>f</td>\n",
       "      <td>https://cdn.rebrickable.com/media/parts/elemen...</td>\n",
       "    </tr>\n",
       "    <tr>\n",
       "      <th>1187302</th>\n",
       "      <td>200014</td>\n",
       "      <td>3626cpr9649</td>\n",
       "      <td>14</td>\n",
       "      <td>1</td>\n",
       "      <td>f</td>\n",
       "      <td>https://cdn.rebrickable.com/media/parts/photos...</td>\n",
       "    </tr>\n",
       "    <tr>\n",
       "      <th>1187303</th>\n",
       "      <td>200014</td>\n",
       "      <td>87990</td>\n",
       "      <td>484</td>\n",
       "      <td>1</td>\n",
       "      <td>f</td>\n",
       "      <td>https://cdn.rebrickable.com/media/parts/elemen...</td>\n",
       "    </tr>\n",
       "    <tr>\n",
       "      <th>1187304</th>\n",
       "      <td>200014</td>\n",
       "      <td>970c46</td>\n",
       "      <td>3</td>\n",
       "      <td>1</td>\n",
       "      <td>f</td>\n",
       "      <td>https://cdn.rebrickable.com/media/parts/elemen...</td>\n",
       "    </tr>\n",
       "    <tr>\n",
       "      <th>1187305</th>\n",
       "      <td>200014</td>\n",
       "      <td>973c29h01pr5955</td>\n",
       "      <td>212</td>\n",
       "      <td>1</td>\n",
       "      <td>f</td>\n",
       "      <td>https://cdn.rebrickable.com/media/parts/elemen...</td>\n",
       "    </tr>\n",
       "  </tbody>\n",
       "</table>\n",
       "<p>1187306 rows × 6 columns</p>\n",
       "</div>"
      ],
      "text/plain": [
       "         inventory_id         part_num  color_id  quantity is_spare  \\\n",
       "0                   1         48379c04        72         1        f   \n",
       "1                   1            48395         7         1        f   \n",
       "2                   1   stickerupn0077      9999         1        f   \n",
       "3                   1          upn0342         0         1        f   \n",
       "4                   1          upn0350        25         1        f   \n",
       "...               ...              ...       ...       ...      ...   \n",
       "1187301        200014            25376         4         1        f   \n",
       "1187302        200014      3626cpr9649        14         1        f   \n",
       "1187303        200014            87990       484         1        f   \n",
       "1187304        200014           970c46         3         1        f   \n",
       "1187305        200014  973c29h01pr5955       212         1        f   \n",
       "\n",
       "                                                   img_url  \n",
       "0        https://cdn.rebrickable.com/media/parts/photos...  \n",
       "1        https://cdn.rebrickable.com/media/parts/photos...  \n",
       "2                                                      NaN  \n",
       "3        https://cdn.rebrickable.com/media/parts/photos...  \n",
       "4                                                      NaN  \n",
       "...                                                    ...  \n",
       "1187301  https://cdn.rebrickable.com/media/parts/elemen...  \n",
       "1187302  https://cdn.rebrickable.com/media/parts/photos...  \n",
       "1187303  https://cdn.rebrickable.com/media/parts/elemen...  \n",
       "1187304  https://cdn.rebrickable.com/media/parts/elemen...  \n",
       "1187305  https://cdn.rebrickable.com/media/parts/elemen...  \n",
       "\n",
       "[1187306 rows x 6 columns]"
      ]
     },
     "execution_count": 35,
     "metadata": {},
     "output_type": "execute_result"
    }
   ],
   "source": [
    "df"
   ]
  },
  {
   "cell_type": "code",
   "execution_count": 36,
   "metadata": {},
   "outputs": [
    {
     "data": {
      "text/plain": [
       "inventory_id     int64\n",
       "part_num        object\n",
       "color_id         int64\n",
       "quantity         int64\n",
       "is_spare        object\n",
       "img_url         object\n",
       "dtype: object"
      ]
     },
     "execution_count": 36,
     "metadata": {},
     "output_type": "execute_result"
    }
   ],
   "source": [
    "df.dtypes"
   ]
  },
  {
   "cell_type": "code",
   "execution_count": 48,
   "metadata": {},
   "outputs": [
    {
     "data": {
      "text/plain": [
       "array(['https://cdn.rebrickable.com/media/parts/photos/1/48379c01-1-839cbcec-62de-4733-ba23-20f35f4dd5d5.jpg',\n",
       "       'https://cdn.rebrickable.com/media/parts/photos/7/48395-7-b9152acf-2fa5-4836-a04d-5b7fd39c2406.jpg',\n",
       "       'https://cdn.rebrickable.com/media/parts/photos/135/upn0342-135-cde3e1b7-1f79-40bf-9b79-46fcf5dbae96.jpg',\n",
       "       ...,\n",
       "       'https://cdn.rebrickable.com/media/parts/elements/6463580.jpg',\n",
       "       'https://cdn.rebrickable.com/media/parts/elements/6467618.jpg',\n",
       "       'https://cdn.rebrickable.com/media/parts/elements/6468374.jpg'],\n",
       "      dtype=object)"
      ]
     },
     "execution_count": 48,
     "metadata": {},
     "output_type": "execute_result"
    }
   ],
   "source": [
    "df['img_url'].dropna().unique()"
   ]
  },
  {
   "cell_type": "code",
   "execution_count": 19,
   "metadata": {},
   "outputs": [],
   "source": [
    "hasPrimaryKey = True"
   ]
  },
  {
   "cell_type": "code",
   "execution_count": 20,
   "metadata": {},
   "outputs": [],
   "source": [
    "boolMap = {'f':0, 't':1}"
   ]
  },
  {
   "cell_type": "code",
   "execution_count": 24,
   "metadata": {},
   "outputs": [
    {
     "data": {
      "text/plain": [
       "array([    9327,     9336,     9339, ..., 51815301, 60566614, 61532443])"
      ]
     },
     "execution_count": 24,
     "metadata": {},
     "output_type": "execute_result"
    }
   ],
   "source": [
    "np.sort(df[df.columns[0]].unique())"
   ]
  },
  {
   "cell_type": "code",
   "execution_count": 49,
   "metadata": {},
   "outputs": [
    {
     "name": "stdout",
     "output_type": "stream",
     "text": [
      "False\n",
      "False\n",
      "False\n",
      "False\n",
      "True\n",
      "False\n"
     ]
    }
   ],
   "source": [
    "for col in df.columns:\n",
    "    print(list(np.sort(df[col].dropna().unique())) == ['f','t'])"
   ]
  },
  {
   "cell_type": "code",
   "execution_count": 52,
   "metadata": {},
   "outputs": [],
   "source": [
    "for col in df.columns:\n",
    "    if list(df[col].unique()) == ['f','t']:\n",
    "        df[col] = df[col].map(boolMap)"
   ]
  },
  {
   "cell_type": "code",
   "execution_count": 53,
   "metadata": {},
   "outputs": [],
   "source": [
    "typeDict = {np.dtype('int64'): 'INTEGER', np.dtype('object'): 'TEXT', np.dtype('float64'): 'REAL'}"
   ]
  },
  {
   "cell_type": "code",
   "execution_count": 54,
   "metadata": {},
   "outputs": [],
   "source": [
    "def makeCreateTableQuery(df, tableName, hasPrimaryKey):\n",
    "    qry = f'CREATE TABLE IF NOT EXISTS {tableName} (\\n'\n",
    "    for n, (col, type) in enumerate(df.dtypes.items()):\n",
    "        if n==0 and hasPrimaryKey:\n",
    "            qry += f'  {col} {typeDict[type]} PRIMARY KEY,\\n'\n",
    "        elif n==len(df.columns)-1:\n",
    "            qry += f'  {col} {typeDict[type]}\\n'\n",
    "        else:\n",
    "            qry += f'  {col} {typeDict[type]},\\n'\n",
    "    qry += ')'\n",
    "    return qry"
   ]
  },
  {
   "cell_type": "code",
   "execution_count": 55,
   "metadata": {},
   "outputs": [
    {
     "name": "stdout",
     "output_type": "stream",
     "text": [
      "CREATE TABLE IF NOT EXISTS inventory_parts (\n",
      "  inventory_id INTEGER PRIMARY KEY,\n",
      "  part_num TEXT,\n",
      "  color_id INTEGER,\n",
      "  quantity INTEGER,\n",
      "  is_spare INTEGER,\n",
      "  img_url TEXT\n",
      ")\n"
     ]
    }
   ],
   "source": [
    "qry = makeCreateTableQuery(df, tableName,hasPrimaryKey)\n",
    "print(qry)"
   ]
  },
  {
   "cell_type": "code",
   "execution_count": 56,
   "metadata": {},
   "outputs": [
    {
     "data": {
      "text/plain": [
       "<sqlite3.Cursor at 0x7fb652c89960>"
      ]
     },
     "execution_count": 56,
     "metadata": {},
     "output_type": "execute_result"
    }
   ],
   "source": [
    "\n",
    "cursor.execute(qry)"
   ]
  },
  {
   "cell_type": "code",
   "execution_count": 57,
   "metadata": {},
   "outputs": [
    {
     "data": {
      "text/plain": [
       "84759"
      ]
     },
     "execution_count": 57,
     "metadata": {},
     "output_type": "execute_result"
    }
   ],
   "source": [
    "df.to_sql(tableName, conn, if_exists='append', index=False)"
   ]
  },
  {
   "cell_type": "code",
   "execution_count": 9,
   "metadata": {},
   "outputs": [
    {
     "data": {
      "text/plain": [
       "['elements',\n",
       " 'part_categories',\n",
       " 'inventories',\n",
       " 'parts',\n",
       " 'part_relationships',\n",
       " 'inventory_sets',\n",
       " 'minifigs',\n",
       " 'inventory_parts',\n",
       " 'colors',\n",
       " 'inventory_minifigs',\n",
       " 'sets',\n",
       " 'themes']"
      ]
     },
     "execution_count": 9,
     "metadata": {},
     "output_type": "execute_result"
    }
   ],
   "source": [
    "tableNames"
   ]
  },
  {
   "cell_type": "code",
   "execution_count": 10,
   "metadata": {},
   "outputs": [],
   "source": [
    "listHasPrimaryKey = ['elements',\n",
    " 'part_categories',\n",
    " 'inventories',\n",
    " 'parts',\n",
    " 'minifigs',\n",
    " 'colors',\n",
    " 'sets',\n",
    " 'themes']"
   ]
  },
  {
   "cell_type": "code",
   "execution_count": 59,
   "metadata": {},
   "outputs": [],
   "source": [
    "def MakeTableFromCSV(tableName):\n",
    "    df = pd.read_csv(f'RebrickableData/{tableName}.csv')\n",
    "    # map bool columns from 'f'/'t' to 0/1\n",
    "    for col in df.columns:\n",
    "        if list(np.sort(df[col].dropna().unique())) == ['f','t']:\n",
    "            df[col] = df[col].map(boolMap)\n",
    "    hasPrimaryKey = tableName in listHasPrimaryKey\n",
    "    qry = makeCreateTableQuery(df, tableName, hasPrimaryKey)\n",
    "    cursor.execute(qry)\n",
    "    df.to_sql(tableName, conn, if_exists='append', index=False)"
   ]
  },
  {
   "cell_type": "code",
   "execution_count": 57,
   "metadata": {},
   "outputs": [
    {
     "data": {
      "text/plain": [
       "'inventory_parts'"
      ]
     },
     "execution_count": 57,
     "metadata": {},
     "output_type": "execute_result"
    }
   ],
   "source": [
    "tableName"
   ]
  },
  {
   "cell_type": "code",
   "execution_count": 30,
   "metadata": {},
   "outputs": [],
   "source": [
    "MakeTableFromCSV(tableName)"
   ]
  },
  {
   "cell_type": "code",
   "execution_count": 60,
   "metadata": {},
   "outputs": [],
   "source": [
    "MakeTableFromCSV('inventory_parts')"
   ]
  },
  {
   "cell_type": "code",
   "execution_count": 61,
   "metadata": {},
   "outputs": [],
   "source": [
    "for tableName in tableNames:\n",
    "    MakeTableFromCSV(tableName)"
   ]
  },
  {
   "cell_type": "markdown",
   "metadata": {},
   "source": [
    "## define relationships"
   ]
  },
  {
   "cell_type": "code",
   "execution_count": 62,
   "metadata": {},
   "outputs": [
    {
     "data": {
      "text/plain": [
       "<sqlite3.Cursor at 0x7ff0e0eb8b90>"
      ]
     },
     "execution_count": 62,
     "metadata": {},
     "output_type": "execute_result"
    }
   ],
   "source": [
    "cursor.execute('PRAGMA foreign_keys = ON;')"
   ]
  },
  {
   "cell_type": "code",
   "execution_count": null,
   "metadata": {},
   "outputs": [],
   "source": []
  }
 ],
 "metadata": {
  "kernelspec": {
   "display_name": "Python 3",
   "language": "python",
   "name": "python3"
  },
  "language_info": {
   "codemirror_mode": {
    "name": "ipython",
    "version": 3
   },
   "file_extension": ".py",
   "mimetype": "text/x-python",
   "name": "python",
   "nbconvert_exporter": "python",
   "pygments_lexer": "ipython3",
   "version": "3.9.18"
  }
 },
 "nbformat": 4,
 "nbformat_minor": 2
}
